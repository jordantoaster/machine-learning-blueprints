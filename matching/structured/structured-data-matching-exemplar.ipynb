{
 "cells": [
  {
   "cell_type": "markdown",
   "metadata": {},
   "source": [
    "# Structured Data Matching Exemplar\n",
    "\n",
    "xxx\n",
    "\n",
    "Semantic text similarity techniques (W2V etc) may not be quite a fit for this, even if we treat a record like a string, does knowledge of context even help? with this in mind, it is not used in this notebook."
   ]
  },
  {
   "cell_type": "markdown",
   "metadata": {},
   "source": [
    "## Key Terminology\n",
    "\n",
    "The three primary tasks involved in entity resolution are deduplication, record linkage, and canonicalization:\n",
    "\n",
    "**Deduplication**: For a given CSV containing N rows and N columns, identify the rows that are very likely duplicates with another row. For example, a Bob Smith vs Robert Smith, using all the data avaliable to support that process.\n",
    "\n",
    "**Record Linkage**: For two given CSV's, attempt to identify which rows belong to the same entity and join the rows together, even if they use entirely different columns.\n",
    "\n",
    "**Canonicalization**: converting data with more than one possible representation into a standard form."
   ]
  },
  {
   "cell_type": "markdown",
   "metadata": {},
   "source": [
    "### Load Data"
   ]
  },
  {
   "cell_type": "code",
   "execution_count": 23,
   "metadata": {},
   "outputs": [
    {
     "data": {
      "text/html": [
       "<div>\n",
       "<style scoped>\n",
       "    .dataframe tbody tr th:only-of-type {\n",
       "        vertical-align: middle;\n",
       "    }\n",
       "\n",
       "    .dataframe tbody tr th {\n",
       "        vertical-align: top;\n",
       "    }\n",
       "\n",
       "    .dataframe thead th {\n",
       "        text-align: right;\n",
       "    }\n",
       "</style>\n",
       "<table border=\"1\" class=\"dataframe\">\n",
       "  <thead>\n",
       "    <tr style=\"text-align: right;\">\n",
       "      <th></th>\n",
       "      <th>given_name</th>\n",
       "      <th>surname</th>\n",
       "      <th>street_number</th>\n",
       "      <th>address_1</th>\n",
       "      <th>address_2</th>\n",
       "      <th>suburb</th>\n",
       "      <th>postcode</th>\n",
       "      <th>state</th>\n",
       "      <th>date_of_birth</th>\n",
       "      <th>soc_sec_id</th>\n",
       "    </tr>\n",
       "    <tr>\n",
       "      <th>rec_id</th>\n",
       "      <th></th>\n",
       "      <th></th>\n",
       "      <th></th>\n",
       "      <th></th>\n",
       "      <th></th>\n",
       "      <th></th>\n",
       "      <th></th>\n",
       "      <th></th>\n",
       "      <th></th>\n",
       "      <th></th>\n",
       "    </tr>\n",
       "  </thead>\n",
       "  <tbody>\n",
       "    <tr>\n",
       "      <th>rec-223-org</th>\n",
       "      <td>NaN</td>\n",
       "      <td>waller</td>\n",
       "      <td>6</td>\n",
       "      <td>tullaroop street</td>\n",
       "      <td>willaroo</td>\n",
       "      <td>st james</td>\n",
       "      <td>4011</td>\n",
       "      <td>wa</td>\n",
       "      <td>19081209</td>\n",
       "      <td>6988048</td>\n",
       "    </tr>\n",
       "    <tr>\n",
       "      <th>rec-122-org</th>\n",
       "      <td>lachlan</td>\n",
       "      <td>berry</td>\n",
       "      <td>69</td>\n",
       "      <td>giblin street</td>\n",
       "      <td>killarney</td>\n",
       "      <td>bittern</td>\n",
       "      <td>4814</td>\n",
       "      <td>qld</td>\n",
       "      <td>19990219</td>\n",
       "      <td>7364009</td>\n",
       "    </tr>\n",
       "    <tr>\n",
       "      <th>rec-373-org</th>\n",
       "      <td>deakin</td>\n",
       "      <td>sondergeld</td>\n",
       "      <td>48</td>\n",
       "      <td>goldfinch circuit</td>\n",
       "      <td>kooltuo</td>\n",
       "      <td>canterbury</td>\n",
       "      <td>2776</td>\n",
       "      <td>vic</td>\n",
       "      <td>19600210</td>\n",
       "      <td>2635962</td>\n",
       "    </tr>\n",
       "    <tr>\n",
       "      <th>rec-10-dup-0</th>\n",
       "      <td>kayla</td>\n",
       "      <td>harrington</td>\n",
       "      <td>NaN</td>\n",
       "      <td>maltby circuit</td>\n",
       "      <td>coaling</td>\n",
       "      <td>coolaroo</td>\n",
       "      <td>3465</td>\n",
       "      <td>nsw</td>\n",
       "      <td>19150612</td>\n",
       "      <td>9004242</td>\n",
       "    </tr>\n",
       "    <tr>\n",
       "      <th>rec-227-org</th>\n",
       "      <td>luke</td>\n",
       "      <td>purdon</td>\n",
       "      <td>23</td>\n",
       "      <td>ramsay place</td>\n",
       "      <td>mirani</td>\n",
       "      <td>garbutt</td>\n",
       "      <td>2260</td>\n",
       "      <td>vic</td>\n",
       "      <td>19831024</td>\n",
       "      <td>8099933</td>\n",
       "    </tr>\n",
       "  </tbody>\n",
       "</table>\n",
       "</div>"
      ],
      "text/plain": [
       "             given_name     surname street_number          address_1  \\\n",
       "rec_id                                                                 \n",
       "rec-223-org         NaN      waller             6   tullaroop street   \n",
       "rec-122-org     lachlan       berry            69      giblin street   \n",
       "rec-373-org      deakin  sondergeld            48  goldfinch circuit   \n",
       "rec-10-dup-0      kayla  harrington           NaN     maltby circuit   \n",
       "rec-227-org        luke      purdon            23       ramsay place   \n",
       "\n",
       "              address_2      suburb postcode state date_of_birth soc_sec_id  \n",
       "rec_id                                                                       \n",
       "rec-223-org    willaroo    st james     4011    wa      19081209    6988048  \n",
       "rec-122-org   killarney     bittern     4814   qld      19990219    7364009  \n",
       "rec-373-org     kooltuo  canterbury     2776   vic      19600210    2635962  \n",
       "rec-10-dup-0    coaling    coolaroo     3465   nsw      19150612    9004242  \n",
       "rec-227-org      mirani     garbutt     2260   vic      19831024    8099933  "
      ]
     },
     "execution_count": 23,
     "metadata": {},
     "output_type": "execute_result"
    }
   ],
   "source": [
    "import recordlinkage\n",
    "from recordlinkage.datasets import load_febrl1\n",
    "df = load_febrl1()\n",
    "df.head()"
   ]
  },
  {
   "cell_type": "code",
   "execution_count": 27,
   "metadata": {},
   "outputs": [],
   "source": [
    "# Reset index into a column\n",
    "df.reset_index(level=0, inplace=True)"
   ]
  },
  {
   "cell_type": "markdown",
   "metadata": {},
   "source": [
    "### Technique 1 - Fuzzy and String Matching\n",
    "\n",
    "You can use:\n",
    "- Edit distance.\n",
    "- NGRAMS."
   ]
  },
  {
   "cell_type": "code",
   "execution_count": 62,
   "metadata": {},
   "outputs": [
    {
     "name": "stderr",
     "output_type": "stream",
     "text": [
      "c:\\users\\jorda\\desktop\\machine-learning-blueprints\\env\\lib\\site-packages\\ipykernel_launcher.py:5: FutureWarning: Passing a negative integer is deprecated in version 1.0 and will not be supported in future version. Instead, use None to not limit the column width.\n",
      "  \"\"\"\n"
     ]
    }
   ],
   "source": [
    "import numpy as np # linear algebra\n",
    "import pandas as pd # data processing, CSV file I/O (e.g. pd.read_csv)\n",
    "import time\n",
    "\n",
    "pd.set_option('display.max_colwidth', -1)"
   ]
  },
  {
   "cell_type": "markdown",
   "metadata": {},
   "source": [
    "fuzzy string matching is the technique of finding strings that match a pattern approximately (rather than exactly). In another word, fuzzy string matching is a type of search that will find matches even when users misspell words or enter only partial words for the search. It is also known as approximate string matching."
   ]
  },
  {
   "cell_type": "code",
   "execution_count": 63,
   "metadata": {},
   "outputs": [],
   "source": [
    "from fuzzywuzzy import fuzz\n",
    "from fuzzywuzzy import process"
   ]
  },
  {
   "cell_type": "markdown",
   "metadata": {},
   "source": [
    "Combine Columns into a single string..."
   ]
  },
  {
   "cell_type": "code",
   "execution_count": 64,
   "metadata": {},
   "outputs": [],
   "source": [
    "df = df.replace(np.nan, '', regex=True)"
   ]
  },
  {
   "cell_type": "code",
   "execution_count": 65,
   "metadata": {},
   "outputs": [],
   "source": [
    "df[\"combined\"] = df[\"given_name\"] + ' ' + df[\"surname\"] + ' ' + df[\"address_1\"] + ' ' + df[\"address_2\"] + ' ' + df[\"state\"]"
   ]
  },
  {
   "cell_type": "code",
   "execution_count": 66,
   "metadata": {},
   "outputs": [
    {
     "data": {
      "text/plain": [
       "0     waller tullaroop street willaroo wa           \n",
       "1    lachlan berry giblin street killarney qld      \n",
       "2    deakin sondergeld goldfinch circuit kooltuo vic\n",
       "3    kayla harrington maltby circuit coaling nsw    \n",
       "4    luke purdon ramsay place mirani vic            \n",
       "Name: combined, dtype: object"
      ]
     },
     "execution_count": 66,
     "metadata": {},
     "output_type": "execute_result"
    }
   ],
   "source": [
    "df[\"combined\"].head()"
   ]
  },
  {
   "cell_type": "markdown",
   "metadata": {},
   "source": [
    "Check an input against the raw string list in the dataset of records."
   ]
  },
  {
   "cell_type": "code",
   "execution_count": 67,
   "metadata": {},
   "outputs": [
    {
     "name": "stdout",
     "output_type": "stream",
     "text": [
      "('luke   calala farm vic', 86, 477)\n"
     ]
    }
   ],
   "source": [
    "print(process.extractOne('luke purdon ramsay mirani willaroo', df[\"combined\"]))"
   ]
  },
  {
   "cell_type": "markdown",
   "metadata": {},
   "source": [
    "This approach has clear limits, as it essentially focuses on an overlap of characters in determining duplication, it does nto account for feilds and treats all characters as equal in a merge. This approach is also very slow on a large set."
   ]
  },
  {
   "cell_type": "markdown",
   "metadata": {},
   "source": [
    "### Technique 2 - Record Linkage Library - Deduplication."
   ]
  },
  {
   "cell_type": "markdown",
   "metadata": {},
   "source": [
    "With the method index, all possible (and unique) record pairs are made. The method returns a pandas.MultiIndex. This is called indexing."
   ]
  },
  {
   "cell_type": "code",
   "execution_count": 8,
   "metadata": {},
   "outputs": [
    {
     "name": "stdout",
     "output_type": "stream",
     "text": [
      "WARNING:recordlinkage:indexing - performance warning - A full index can result in large number of record pairs.\n",
      "1000 499500\n"
     ]
    }
   ],
   "source": [
    "indexer = recordlinkage.Index()\n",
    "indexer.full()\n",
    "\n",
    "candidate_links = indexer.index(df)\n",
    "print (len(df), len(candidate_links))"
   ]
  },
  {
   "cell_type": "markdown",
   "metadata": {},
   "source": [
    "Now, every record has a unique pair with each other record."
   ]
  },
  {
   "cell_type": "markdown",
   "metadata": {},
   "source": [
    "#### Blocking\n",
    "\n",
    "One of the most well known indexing methods is named blocking. This method includes only record pairs that are identical on one or more stored attributes of the person (or entity in general). The blocking method can be used in the recordlinkage module.\n",
    "\n",
    "In this case, we are saying that we want the given name to match, before trying to dedup, reducing volume, giving duplication is reasonably rare in structured data.\n",
    "\n",
    "a technique called 'Sorted Neighbourhood Indexing' is more advanced and can be used instead."
   ]
  },
  {
   "cell_type": "code",
   "execution_count": 10,
   "metadata": {},
   "outputs": [
    {
     "name": "stdout",
     "output_type": "stream",
     "text": [
      "2082\n"
     ]
    }
   ],
   "source": [
    "indexer = recordlinkage.Index()\n",
    "indexer.block('given_name')\n",
    "candidate_links = indexer.index(df)\n",
    "\n",
    "print (len(candidate_links))"
   ]
  },
  {
   "cell_type": "code",
   "execution_count": 11,
   "metadata": {},
   "outputs": [
    {
     "data": {
      "text/plain": [
       "MultiIndex([('rec-183-dup-0',   'rec-122-org'),\n",
       "            (  'rec-248-org',   'rec-122-org'),\n",
       "            (  'rec-248-org', 'rec-183-dup-0'),\n",
       "            ('rec-122-dup-0',   'rec-122-org'),\n",
       "            ('rec-122-dup-0', 'rec-183-dup-0'),\n",
       "            ('rec-122-dup-0',   'rec-248-org'),\n",
       "            (  'rec-469-org',   'rec-122-org'),\n",
       "            (  'rec-469-org', 'rec-183-dup-0'),\n",
       "            (  'rec-469-org',   'rec-248-org'),\n",
       "            (  'rec-469-org', 'rec-122-dup-0'),\n",
       "            ...\n",
       "            ('rec-407-dup-0',   'rec-407-org'),\n",
       "            ('rec-367-dup-0',   'rec-367-org'),\n",
       "            ('rec-103-dup-0',   'rec-103-org'),\n",
       "            ('rec-195-dup-0',   'rec-195-org'),\n",
       "            ('rec-184-dup-0',   'rec-184-org'),\n",
       "            (  'rec-252-org', 'rec-252-dup-0'),\n",
       "            ( 'rec-48-dup-0',    'rec-48-org'),\n",
       "            ('rec-298-dup-0',   'rec-298-org'),\n",
       "            (  'rec-282-org', 'rec-282-dup-0'),\n",
       "            (  'rec-327-org',   'rec-411-org')],\n",
       "           names=['rec_id_1', 'rec_id_2'], length=2082)"
      ]
     },
     "execution_count": 11,
     "metadata": {},
     "output_type": "execute_result"
    }
   ],
   "source": [
    "candidate_links"
   ]
  },
  {
   "cell_type": "markdown",
   "metadata": {},
   "source": [
    "#### Compare the Records\n",
    "\n",
    "This approach looks for both fuzzy matches and exact string matches across the feilds."
   ]
  },
  {
   "cell_type": "code",
   "execution_count": 13,
   "metadata": {},
   "outputs": [],
   "source": [
    "compare_cl = recordlinkage.Compare()\n",
    "\n",
    "compare_cl.exact('given_name', 'given_name', label='given_name')\n",
    "compare_cl.string('surname', 'surname', method='jarowinkler', threshold=0.85, label='surname')\n",
    "compare_cl.exact('date_of_birth', 'date_of_birth', label='date_of_birth')\n",
    "compare_cl.exact('suburb', 'suburb', label='suburb')\n",
    "compare_cl.exact('state', 'state', label='state')\n",
    "compare_cl.string('address_1', 'address_1', threshold=0.85, label='address_1')\n",
    "\n",
    "features = compare_cl.compute(candidate_links, df)"
   ]
  },
  {
   "cell_type": "code",
   "execution_count": 14,
   "metadata": {},
   "outputs": [
    {
     "data": {
      "text/html": [
       "<div>\n",
       "<style scoped>\n",
       "    .dataframe tbody tr th:only-of-type {\n",
       "        vertical-align: middle;\n",
       "    }\n",
       "\n",
       "    .dataframe tbody tr th {\n",
       "        vertical-align: top;\n",
       "    }\n",
       "\n",
       "    .dataframe thead th {\n",
       "        text-align: right;\n",
       "    }\n",
       "</style>\n",
       "<table border=\"1\" class=\"dataframe\">\n",
       "  <thead>\n",
       "    <tr style=\"text-align: right;\">\n",
       "      <th></th>\n",
       "      <th></th>\n",
       "      <th>given_name</th>\n",
       "      <th>surname</th>\n",
       "      <th>date_of_birth</th>\n",
       "      <th>suburb</th>\n",
       "      <th>state</th>\n",
       "      <th>address_1</th>\n",
       "    </tr>\n",
       "    <tr>\n",
       "      <th>rec_id_1</th>\n",
       "      <th>rec_id_2</th>\n",
       "      <th></th>\n",
       "      <th></th>\n",
       "      <th></th>\n",
       "      <th></th>\n",
       "      <th></th>\n",
       "      <th></th>\n",
       "    </tr>\n",
       "  </thead>\n",
       "  <tbody>\n",
       "    <tr>\n",
       "      <th>rec-183-dup-0</th>\n",
       "      <th>rec-122-org</th>\n",
       "      <td>1</td>\n",
       "      <td>0.0</td>\n",
       "      <td>0</td>\n",
       "      <td>0</td>\n",
       "      <td>0</td>\n",
       "      <td>0.0</td>\n",
       "    </tr>\n",
       "    <tr>\n",
       "      <th rowspan=\"2\" valign=\"top\">rec-248-org</th>\n",
       "      <th>rec-122-org</th>\n",
       "      <td>1</td>\n",
       "      <td>0.0</td>\n",
       "      <td>0</td>\n",
       "      <td>0</td>\n",
       "      <td>1</td>\n",
       "      <td>0.0</td>\n",
       "    </tr>\n",
       "    <tr>\n",
       "      <th>rec-183-dup-0</th>\n",
       "      <td>1</td>\n",
       "      <td>0.0</td>\n",
       "      <td>0</td>\n",
       "      <td>0</td>\n",
       "      <td>0</td>\n",
       "      <td>0.0</td>\n",
       "    </tr>\n",
       "    <tr>\n",
       "      <th rowspan=\"3\" valign=\"top\">rec-122-dup-0</th>\n",
       "      <th>rec-122-org</th>\n",
       "      <td>1</td>\n",
       "      <td>1.0</td>\n",
       "      <td>1</td>\n",
       "      <td>1</td>\n",
       "      <td>1</td>\n",
       "      <td>1.0</td>\n",
       "    </tr>\n",
       "    <tr>\n",
       "      <th>rec-183-dup-0</th>\n",
       "      <td>1</td>\n",
       "      <td>0.0</td>\n",
       "      <td>0</td>\n",
       "      <td>0</td>\n",
       "      <td>0</td>\n",
       "      <td>0.0</td>\n",
       "    </tr>\n",
       "    <tr>\n",
       "      <th>rec-248-org</th>\n",
       "      <td>1</td>\n",
       "      <td>0.0</td>\n",
       "      <td>0</td>\n",
       "      <td>0</td>\n",
       "      <td>1</td>\n",
       "      <td>0.0</td>\n",
       "    </tr>\n",
       "    <tr>\n",
       "      <th rowspan=\"4\" valign=\"top\">rec-469-org</th>\n",
       "      <th>rec-122-org</th>\n",
       "      <td>1</td>\n",
       "      <td>0.0</td>\n",
       "      <td>0</td>\n",
       "      <td>0</td>\n",
       "      <td>0</td>\n",
       "      <td>0.0</td>\n",
       "    </tr>\n",
       "    <tr>\n",
       "      <th>rec-183-dup-0</th>\n",
       "      <td>1</td>\n",
       "      <td>0.0</td>\n",
       "      <td>0</td>\n",
       "      <td>0</td>\n",
       "      <td>1</td>\n",
       "      <td>0.0</td>\n",
       "    </tr>\n",
       "    <tr>\n",
       "      <th>rec-248-org</th>\n",
       "      <td>1</td>\n",
       "      <td>0.0</td>\n",
       "      <td>0</td>\n",
       "      <td>0</td>\n",
       "      <td>0</td>\n",
       "      <td>0.0</td>\n",
       "    </tr>\n",
       "    <tr>\n",
       "      <th>rec-122-dup-0</th>\n",
       "      <td>1</td>\n",
       "      <td>0.0</td>\n",
       "      <td>0</td>\n",
       "      <td>0</td>\n",
       "      <td>0</td>\n",
       "      <td>0.0</td>\n",
       "    </tr>\n",
       "  </tbody>\n",
       "</table>\n",
       "</div>"
      ],
      "text/plain": [
       "                             given_name  surname  date_of_birth  suburb  \\\n",
       "rec_id_1      rec_id_2                                                    \n",
       "rec-183-dup-0 rec-122-org             1      0.0              0       0   \n",
       "rec-248-org   rec-122-org             1      0.0              0       0   \n",
       "              rec-183-dup-0           1      0.0              0       0   \n",
       "rec-122-dup-0 rec-122-org             1      1.0              1       1   \n",
       "              rec-183-dup-0           1      0.0              0       0   \n",
       "              rec-248-org             1      0.0              0       0   \n",
       "rec-469-org   rec-122-org             1      0.0              0       0   \n",
       "              rec-183-dup-0           1      0.0              0       0   \n",
       "              rec-248-org             1      0.0              0       0   \n",
       "              rec-122-dup-0           1      0.0              0       0   \n",
       "\n",
       "                             state  address_1  \n",
       "rec_id_1      rec_id_2                         \n",
       "rec-183-dup-0 rec-122-org        0        0.0  \n",
       "rec-248-org   rec-122-org        1        0.0  \n",
       "              rec-183-dup-0      0        0.0  \n",
       "rec-122-dup-0 rec-122-org        1        1.0  \n",
       "              rec-183-dup-0      0        0.0  \n",
       "              rec-248-org        1        0.0  \n",
       "rec-469-org   rec-122-org        0        0.0  \n",
       "              rec-183-dup-0      1        0.0  \n",
       "              rec-248-org        0        0.0  \n",
       "              rec-122-dup-0      0        0.0  "
      ]
     },
     "execution_count": 14,
     "metadata": {},
     "output_type": "execute_result"
    }
   ],
   "source": [
    "features.head(10)"
   ]
  },
  {
   "cell_type": "code",
   "execution_count": 15,
   "metadata": {},
   "outputs": [
    {
     "data": {
      "text/plain": [
       "6.0     142\n",
       "5.0     145\n",
       "4.0      30\n",
       "3.0       9\n",
       "2.0     376\n",
       "1.0    1380\n",
       "dtype: int64"
      ]
     },
     "execution_count": 15,
     "metadata": {},
     "output_type": "execute_result"
    }
   ],
   "source": [
    "features.sum(axis=1).value_counts().sort_index(ascending=False)"
   ]
  },
  {
   "cell_type": "code",
   "execution_count": 16,
   "metadata": {},
   "outputs": [
    {
     "name": "stdout",
     "output_type": "stream",
     "text": [
      "317\n"
     ]
    },
    {
     "data": {
      "text/html": [
       "<div>\n",
       "<style scoped>\n",
       "    .dataframe tbody tr th:only-of-type {\n",
       "        vertical-align: middle;\n",
       "    }\n",
       "\n",
       "    .dataframe tbody tr th {\n",
       "        vertical-align: top;\n",
       "    }\n",
       "\n",
       "    .dataframe thead th {\n",
       "        text-align: right;\n",
       "    }\n",
       "</style>\n",
       "<table border=\"1\" class=\"dataframe\">\n",
       "  <thead>\n",
       "    <tr style=\"text-align: right;\">\n",
       "      <th></th>\n",
       "      <th></th>\n",
       "      <th>given_name</th>\n",
       "      <th>surname</th>\n",
       "      <th>date_of_birth</th>\n",
       "      <th>suburb</th>\n",
       "      <th>state</th>\n",
       "      <th>address_1</th>\n",
       "    </tr>\n",
       "    <tr>\n",
       "      <th>rec_id_1</th>\n",
       "      <th>rec_id_2</th>\n",
       "      <th></th>\n",
       "      <th></th>\n",
       "      <th></th>\n",
       "      <th></th>\n",
       "      <th></th>\n",
       "      <th></th>\n",
       "    </tr>\n",
       "  </thead>\n",
       "  <tbody>\n",
       "    <tr>\n",
       "      <th>rec-122-dup-0</th>\n",
       "      <th>rec-122-org</th>\n",
       "      <td>1</td>\n",
       "      <td>1.0</td>\n",
       "      <td>1</td>\n",
       "      <td>1</td>\n",
       "      <td>1</td>\n",
       "      <td>1.0</td>\n",
       "    </tr>\n",
       "    <tr>\n",
       "      <th>rec-183-org</th>\n",
       "      <th>rec-183-dup-0</th>\n",
       "      <td>1</td>\n",
       "      <td>1.0</td>\n",
       "      <td>1</td>\n",
       "      <td>1</td>\n",
       "      <td>1</td>\n",
       "      <td>1.0</td>\n",
       "    </tr>\n",
       "    <tr>\n",
       "      <th>rec-248-dup-0</th>\n",
       "      <th>rec-248-org</th>\n",
       "      <td>1</td>\n",
       "      <td>1.0</td>\n",
       "      <td>1</td>\n",
       "      <td>1</td>\n",
       "      <td>1</td>\n",
       "      <td>1.0</td>\n",
       "    </tr>\n",
       "    <tr>\n",
       "      <th>rec-373-dup-0</th>\n",
       "      <th>rec-373-org</th>\n",
       "      <td>1</td>\n",
       "      <td>1.0</td>\n",
       "      <td>1</td>\n",
       "      <td>1</td>\n",
       "      <td>1</td>\n",
       "      <td>1.0</td>\n",
       "    </tr>\n",
       "    <tr>\n",
       "      <th>rec-10-org</th>\n",
       "      <th>rec-10-dup-0</th>\n",
       "      <td>1</td>\n",
       "      <td>1.0</td>\n",
       "      <td>1</td>\n",
       "      <td>1</td>\n",
       "      <td>1</td>\n",
       "      <td>1.0</td>\n",
       "    </tr>\n",
       "    <tr>\n",
       "      <th>rec-342-dup-0</th>\n",
       "      <th>rec-342-org</th>\n",
       "      <td>1</td>\n",
       "      <td>1.0</td>\n",
       "      <td>0</td>\n",
       "      <td>1</td>\n",
       "      <td>1</td>\n",
       "      <td>1.0</td>\n",
       "    </tr>\n",
       "    <tr>\n",
       "      <th>rec-397-org</th>\n",
       "      <th>rec-397-dup-0</th>\n",
       "      <td>1</td>\n",
       "      <td>1.0</td>\n",
       "      <td>1</td>\n",
       "      <td>1</td>\n",
       "      <td>1</td>\n",
       "      <td>0.0</td>\n",
       "    </tr>\n",
       "    <tr>\n",
       "      <th>rec-472-org</th>\n",
       "      <th>rec-472-dup-0</th>\n",
       "      <td>1</td>\n",
       "      <td>1.0</td>\n",
       "      <td>1</td>\n",
       "      <td>1</td>\n",
       "      <td>1</td>\n",
       "      <td>0.0</td>\n",
       "    </tr>\n",
       "    <tr>\n",
       "      <th>rec-330-org</th>\n",
       "      <th>rec-330-dup-0</th>\n",
       "      <td>1</td>\n",
       "      <td>0.0</td>\n",
       "      <td>1</td>\n",
       "      <td>1</td>\n",
       "      <td>1</td>\n",
       "      <td>0.0</td>\n",
       "    </tr>\n",
       "    <tr>\n",
       "      <th>rec-190-org</th>\n",
       "      <th>rec-190-dup-0</th>\n",
       "      <td>1</td>\n",
       "      <td>1.0</td>\n",
       "      <td>0</td>\n",
       "      <td>1</td>\n",
       "      <td>1</td>\n",
       "      <td>1.0</td>\n",
       "    </tr>\n",
       "  </tbody>\n",
       "</table>\n",
       "</div>"
      ],
      "text/plain": [
       "                             given_name  surname  date_of_birth  suburb  \\\n",
       "rec_id_1      rec_id_2                                                    \n",
       "rec-122-dup-0 rec-122-org             1      1.0              1       1   \n",
       "rec-183-org   rec-183-dup-0           1      1.0              1       1   \n",
       "rec-248-dup-0 rec-248-org             1      1.0              1       1   \n",
       "rec-373-dup-0 rec-373-org             1      1.0              1       1   \n",
       "rec-10-org    rec-10-dup-0            1      1.0              1       1   \n",
       "rec-342-dup-0 rec-342-org             1      1.0              0       1   \n",
       "rec-397-org   rec-397-dup-0           1      1.0              1       1   \n",
       "rec-472-org   rec-472-dup-0           1      1.0              1       1   \n",
       "rec-330-org   rec-330-dup-0           1      0.0              1       1   \n",
       "rec-190-org   rec-190-dup-0           1      1.0              0       1   \n",
       "\n",
       "                             state  address_1  \n",
       "rec_id_1      rec_id_2                         \n",
       "rec-122-dup-0 rec-122-org        1        1.0  \n",
       "rec-183-org   rec-183-dup-0      1        1.0  \n",
       "rec-248-dup-0 rec-248-org        1        1.0  \n",
       "rec-373-dup-0 rec-373-org        1        1.0  \n",
       "rec-10-org    rec-10-dup-0       1        1.0  \n",
       "rec-342-dup-0 rec-342-org        1        1.0  \n",
       "rec-397-org   rec-397-dup-0      1        0.0  \n",
       "rec-472-org   rec-472-dup-0      1        0.0  \n",
       "rec-330-org   rec-330-dup-0      1        0.0  \n",
       "rec-190-org   rec-190-dup-0      1        1.0  "
      ]
     },
     "execution_count": 16,
     "metadata": {},
     "output_type": "execute_result"
    }
   ],
   "source": [
    "matches = features[features.sum(axis=1) > 3]\n",
    "\n",
    "print(len(matches))\n",
    "matches.head(10)"
   ]
  },
  {
   "cell_type": "markdown",
   "metadata": {},
   "source": [
    "You can see, that the result is a basic count if the matching criteria is met and we chose an arbitrary boundary if enough conditions are met. "
   ]
  },
  {
   "cell_type": "code",
   "execution_count": 33,
   "metadata": {},
   "outputs": [
    {
     "data": {
      "text/html": [
       "<div>\n",
       "<style scoped>\n",
       "    .dataframe tbody tr th:only-of-type {\n",
       "        vertical-align: middle;\n",
       "    }\n",
       "\n",
       "    .dataframe tbody tr th {\n",
       "        vertical-align: top;\n",
       "    }\n",
       "\n",
       "    .dataframe thead th {\n",
       "        text-align: right;\n",
       "    }\n",
       "</style>\n",
       "<table border=\"1\" class=\"dataframe\">\n",
       "  <thead>\n",
       "    <tr style=\"text-align: right;\">\n",
       "      <th></th>\n",
       "      <th>rec_id</th>\n",
       "      <th>given_name</th>\n",
       "      <th>surname</th>\n",
       "      <th>street_number</th>\n",
       "      <th>address_1</th>\n",
       "      <th>address_2</th>\n",
       "      <th>suburb</th>\n",
       "      <th>postcode</th>\n",
       "      <th>state</th>\n",
       "      <th>date_of_birth</th>\n",
       "      <th>soc_sec_id</th>\n",
       "    </tr>\n",
       "  </thead>\n",
       "  <tbody>\n",
       "    <tr>\n",
       "      <th>827</th>\n",
       "      <td>rec-342-dup-0</td>\n",
       "      <td>kayla</td>\n",
       "      <td>honeychurch</td>\n",
       "      <td>NaN</td>\n",
       "      <td>sturt avenue</td>\n",
       "      <td>dimenttowers</td>\n",
       "      <td>ashgrove</td>\n",
       "      <td>2405</td>\n",
       "      <td>vic</td>\n",
       "      <td>19140727</td>\n",
       "      <td>7800242</td>\n",
       "    </tr>\n",
       "  </tbody>\n",
       "</table>\n",
       "</div>"
      ],
      "text/plain": [
       "            rec_id given_name      surname street_number     address_1  \\\n",
       "827  rec-342-dup-0      kayla  honeychurch           NaN  sturt avenue   \n",
       "\n",
       "        address_2    suburb postcode state date_of_birth soc_sec_id  \n",
       "827  dimenttowers  ashgrove     2405   vic      19140727    7800242  "
      ]
     },
     "execution_count": 33,
     "metadata": {},
     "output_type": "execute_result"
    }
   ],
   "source": [
    "df[df['rec_id'] == 'rec-342-dup-0']"
   ]
  },
  {
   "cell_type": "code",
   "execution_count": 34,
   "metadata": {},
   "outputs": [
    {
     "data": {
      "text/html": [
       "<div>\n",
       "<style scoped>\n",
       "    .dataframe tbody tr th:only-of-type {\n",
       "        vertical-align: middle;\n",
       "    }\n",
       "\n",
       "    .dataframe tbody tr th {\n",
       "        vertical-align: top;\n",
       "    }\n",
       "\n",
       "    .dataframe thead th {\n",
       "        text-align: right;\n",
       "    }\n",
       "</style>\n",
       "<table border=\"1\" class=\"dataframe\">\n",
       "  <thead>\n",
       "    <tr style=\"text-align: right;\">\n",
       "      <th></th>\n",
       "      <th>rec_id</th>\n",
       "      <th>given_name</th>\n",
       "      <th>surname</th>\n",
       "      <th>street_number</th>\n",
       "      <th>address_1</th>\n",
       "      <th>address_2</th>\n",
       "      <th>suburb</th>\n",
       "      <th>postcode</th>\n",
       "      <th>state</th>\n",
       "      <th>date_of_birth</th>\n",
       "      <th>soc_sec_id</th>\n",
       "    </tr>\n",
       "  </thead>\n",
       "  <tbody>\n",
       "    <tr>\n",
       "      <th>589</th>\n",
       "      <td>rec-342-org</td>\n",
       "      <td>kayla</td>\n",
       "      <td>honeychurch</td>\n",
       "      <td>102</td>\n",
       "      <td>sturt avenue</td>\n",
       "      <td>diment towers</td>\n",
       "      <td>ashgrove</td>\n",
       "      <td>2450</td>\n",
       "      <td>vic</td>\n",
       "      <td>19151022</td>\n",
       "      <td>7800242</td>\n",
       "    </tr>\n",
       "  </tbody>\n",
       "</table>\n",
       "</div>"
      ],
      "text/plain": [
       "          rec_id given_name      surname street_number     address_1  \\\n",
       "589  rec-342-org      kayla  honeychurch           102  sturt avenue   \n",
       "\n",
       "         address_2    suburb postcode state date_of_birth soc_sec_id  \n",
       "589  diment towers  ashgrove     2450   vic      19151022    7800242  "
      ]
     },
     "execution_count": 34,
     "metadata": {},
     "output_type": "execute_result"
    }
   ],
   "source": [
    "df[df['rec_id'] == 'rec-342-org']"
   ]
  },
  {
   "cell_type": "markdown",
   "metadata": {},
   "source": [
    "### Technique 3 - tf-idf"
   ]
  },
  {
   "cell_type": "code",
   "execution_count": 68,
   "metadata": {},
   "outputs": [
    {
     "name": "stdout",
     "output_type": "stream",
     "text": [
      "All 3-grams in \"Department\":\n",
      "[' De', 'Dep', 'epa', 'par', 'art', 'rtm', 'tme', 'men', 'ent', 'nt ']\n"
     ]
    }
   ],
   "source": [
    "import re\n",
    "def ngrams(string, n=3):\n",
    "    string = string.encode(\"ascii\", errors=\"ignore\").decode() #remove non ascii chars\n",
    "    string = string.lower()\n",
    "    chars_to_remove = [\")\",\"(\",\".\",\"|\",\"[\",\"]\",\"{\",\"}\",\"'\"]\n",
    "    rx = '[' + re.escape(''.join(chars_to_remove)) + ']'\n",
    "    string = re.sub(rx, '', string)\n",
    "    string = string.replace('&', 'and')\n",
    "    string = string.replace(',', ' ')\n",
    "    string = string.replace('-', ' ')\n",
    "    string = string.title() # normalise case - capital at start of each word\n",
    "    string = re.sub(' +',' ',string).strip() # get rid of multiple spaces and replace with a single\n",
    "    string = ' '+ string +' ' # pad names for ngrams...\n",
    "    string = re.sub(r'[,-./]|\\sBD',r'', string)\n",
    "    ngrams = zip(*[string[i:] for i in range(n)])\n",
    "    return [''.join(ngram) for ngram in ngrams]\n",
    "\n",
    "print('All 3-grams in \"Department\":')\n",
    "print(ngrams('Department'))"
   ]
  },
  {
   "cell_type": "code",
   "execution_count": 84,
   "metadata": {},
   "outputs": [],
   "source": [
    "from sklearn.feature_extraction.text import TfidfVectorizer\n",
    "vectorizer = TfidfVectorizer(min_df=1, analyzer=ngrams)\n",
    "tf_idf_matrix = vectorizer.fit_transform(df[\"combined\"])"
   ]
  },
  {
   "cell_type": "code",
   "execution_count": 96,
   "metadata": {},
   "outputs": [
    {
     "name": "stdout",
     "output_type": "stream",
     "text": [
      "[[0.9001851]]\n",
      "[[0.20512969]]\n"
     ]
    }
   ],
   "source": [
    "from sklearn.metrics.pairwise import cosine_similarity\n",
    "\n",
    "\n",
    "input_a = 'kayla honeychurch sturt avenue dimenttowers vic'\n",
    "input_b = 'kayla honeychurch sturt avenue diment towers vic'\n",
    "input_c = 'jordan mcdonald mount vernon diment towers na'\n",
    "\n",
    "\n",
    "print(cosine_similarity(vectorizer.transform([input_a]), vectorizer.transform([input_b])))\n",
    "print(cosine_similarity(vectorizer.transform([input_a]), vectorizer.transform([input_c])))"
   ]
  },
  {
   "cell_type": "code",
   "execution_count": 183,
   "metadata": {},
   "outputs": [],
   "source": [
    "def get_matches_df(sparse_matrix, name_vector):\n",
    "    \n",
    "    left_side = []\n",
    "    right_side = []\n",
    "    similairity = []\n",
    "    \n",
    "    for i in range(0, 5):\n",
    "        print(name_vector[i])\n",
    "        for j in range(0, len(name_vector)):\n",
    "            left_side.append(name_vector[i])\n",
    "            right_side.append(name_vector[j])\n",
    "            similairity.append(sparse_matrix[i][j])\n",
    "    \n",
    "    return pd.DataFrame({'left_side': left_side,\n",
    "                      'right_side': right_side,\n",
    "                       'similairity': similairity})"
   ]
  },
  {
   "cell_type": "code",
   "execution_count": 184,
   "metadata": {},
   "outputs": [
    {
     "name": "stdout",
     "output_type": "stream",
     "text": [
      " waller tullaroop street willaroo wa\n",
      "lachlan berry giblin street killarney qld\n",
      "deakin sondergeld goldfinch circuit kooltuo vic\n",
      "kayla harrington maltby circuit coaling nsw\n",
      "luke purdon ramsay place mirani vic\n"
     ]
    }
   ],
   "source": [
    "matches_df = get_matches_df(cosine_similarity(tf_idf_matrix), df[\"combined\"])"
   ]
  },
  {
   "cell_type": "code",
   "execution_count": 185,
   "metadata": {},
   "outputs": [
    {
     "data": {
      "text/html": [
       "<div>\n",
       "<style scoped>\n",
       "    .dataframe tbody tr th:only-of-type {\n",
       "        vertical-align: middle;\n",
       "    }\n",
       "\n",
       "    .dataframe tbody tr th {\n",
       "        vertical-align: top;\n",
       "    }\n",
       "\n",
       "    .dataframe thead th {\n",
       "        text-align: right;\n",
       "    }\n",
       "</style>\n",
       "<table border=\"1\" class=\"dataframe\">\n",
       "  <thead>\n",
       "    <tr style=\"text-align: right;\">\n",
       "      <th></th>\n",
       "      <th>left_side</th>\n",
       "      <th>right_side</th>\n",
       "      <th>similairity</th>\n",
       "    </tr>\n",
       "  </thead>\n",
       "  <tbody>\n",
       "    <tr>\n",
       "      <th>1220</th>\n",
       "      <td>lachlan berry giblin street killarney qld</td>\n",
       "      <td>joshus maclennan karsjl roper nplace qld</td>\n",
       "      <td>0.036297</td>\n",
       "    </tr>\n",
       "    <tr>\n",
       "      <th>28</th>\n",
       "      <td>waller tullaroop street willaroo wa</td>\n",
       "      <td>dakota morrison longmore crescent three acres nsw</td>\n",
       "      <td>0.003779</td>\n",
       "    </tr>\n",
       "    <tr>\n",
       "      <th>2044</th>\n",
       "      <td>deakin sondergeld goldfinch circuit kooltuo vic</td>\n",
       "      <td>emma green learmonth drive wallace heights qld</td>\n",
       "      <td>0.006336</td>\n",
       "    </tr>\n",
       "    <tr>\n",
       "      <th>548</th>\n",
       "      <td>waller tullaroop street willaroo wa</td>\n",
       "      <td>gerste booth cre scent donpre nsw</td>\n",
       "      <td>0.000000</td>\n",
       "    </tr>\n",
       "    <tr>\n",
       "      <th>1569</th>\n",
       "      <td>lachlan berry giblin street killarney qld</td>\n",
       "      <td>ben browne tillyard drive willow wood vic</td>\n",
       "      <td>0.057225</td>\n",
       "    </tr>\n",
       "    <tr>\n",
       "      <th>3190</th>\n",
       "      <td>kayla harrington maltby circuit coaling nsw</td>\n",
       "      <td>darcy jolly antill street agar abi nsw</td>\n",
       "      <td>0.014108</td>\n",
       "    </tr>\n",
       "    <tr>\n",
       "      <th>4923</th>\n",
       "      <td>luke purdon ramsay place mirani vic</td>\n",
       "      <td>kirah mccarthy laseron place  wa</td>\n",
       "      <td>0.106749</td>\n",
       "    </tr>\n",
       "    <tr>\n",
       "      <th>3123</th>\n",
       "      <td>kayla harrington maltby circuit coaling nsw</td>\n",
       "      <td>alexa-rose campblel neeld place  qld</td>\n",
       "      <td>0.000000</td>\n",
       "    </tr>\n",
       "    <tr>\n",
       "      <th>2548</th>\n",
       "      <td>deakin sondergeld goldfinch circuit kooltuo vic</td>\n",
       "      <td>gerste booth cre scent donpre nsw</td>\n",
       "      <td>0.023788</td>\n",
       "    </tr>\n",
       "    <tr>\n",
       "      <th>481</th>\n",
       "      <td>waller tullaroop street willaroo wa</td>\n",
       "      <td>jacob walls atherton street indra nsw</td>\n",
       "      <td>0.106403</td>\n",
       "    </tr>\n",
       "    <tr>\n",
       "      <th>1418</th>\n",
       "      <td>lachlan berry giblin street killarney qld</td>\n",
       "      <td>brianna white dakin place rosevillea nsw</td>\n",
       "      <td>0.030338</td>\n",
       "    </tr>\n",
       "    <tr>\n",
       "      <th>1658</th>\n",
       "      <td>lachlan berry giblin street killarney qld</td>\n",
       "      <td>lucas rawlings paul coe crescent glenefer garden vic</td>\n",
       "      <td>0.015882</td>\n",
       "    </tr>\n",
       "    <tr>\n",
       "      <th>3214</th>\n",
       "      <td>kayla harrington maltby circuit coaling nsw</td>\n",
       "      <td>bailey blake foxall street nioka nsw</td>\n",
       "      <td>0.016016</td>\n",
       "    </tr>\n",
       "    <tr>\n",
       "      <th>1666</th>\n",
       "      <td>lachlan berry giblin street killarney qld</td>\n",
       "      <td>bridget pocarl thornton place crown a llot wa</td>\n",
       "      <td>0.003809</td>\n",
       "    </tr>\n",
       "    <tr>\n",
       "      <th>447</th>\n",
       "      <td>waller tullaroop street willaroo wa</td>\n",
       "      <td>mikhayla blunden andrews street killarney qld</td>\n",
       "      <td>0.101605</td>\n",
       "    </tr>\n",
       "    <tr>\n",
       "      <th>3390</th>\n",
       "      <td>kayla harrington maltby circuit coaling nsw</td>\n",
       "      <td>molly webb mccombie street rosedale nsw</td>\n",
       "      <td>0.015569</td>\n",
       "    </tr>\n",
       "    <tr>\n",
       "      <th>2355</th>\n",
       "      <td>deakin sondergeld goldfinch circuit kooltuo vic</td>\n",
       "      <td>jack spawton mathieson crescent locn 1025 qld</td>\n",
       "      <td>0.005936</td>\n",
       "    </tr>\n",
       "    <tr>\n",
       "      <th>4103</th>\n",
       "      <td>luke purdon ramsay place mirani vic</td>\n",
       "      <td>alissa kilmatrin reveley rescent crown allot nsw</td>\n",
       "      <td>0.023137</td>\n",
       "    </tr>\n",
       "    <tr>\n",
       "      <th>4263</th>\n",
       "      <td>luke purdon ramsay place mirani vic</td>\n",
       "      <td>harrington adair street the lakes retirement village vic</td>\n",
       "      <td>0.030921</td>\n",
       "    </tr>\n",
       "    <tr>\n",
       "      <th>3470</th>\n",
       "      <td>kayla harrington maltby circuit coaling nsw</td>\n",
       "      <td>madeline najhm boronia drive poplar bend nsw</td>\n",
       "      <td>0.038322</td>\n",
       "    </tr>\n",
       "  </tbody>\n",
       "</table>\n",
       "</div>"
      ],
      "text/plain": [
       "                                            left_side  \\\n",
       "1220  lachlan berry giblin street killarney qld         \n",
       "28     waller tullaroop street willaroo wa              \n",
       "2044  deakin sondergeld goldfinch circuit kooltuo vic   \n",
       "548    waller tullaroop street willaroo wa              \n",
       "1569  lachlan berry giblin street killarney qld         \n",
       "3190  kayla harrington maltby circuit coaling nsw       \n",
       "4923  luke purdon ramsay place mirani vic               \n",
       "3123  kayla harrington maltby circuit coaling nsw       \n",
       "2548  deakin sondergeld goldfinch circuit kooltuo vic   \n",
       "481    waller tullaroop street willaroo wa              \n",
       "1418  lachlan berry giblin street killarney qld         \n",
       "1658  lachlan berry giblin street killarney qld         \n",
       "3214  kayla harrington maltby circuit coaling nsw       \n",
       "1666  lachlan berry giblin street killarney qld         \n",
       "447    waller tullaroop street willaroo wa              \n",
       "3390  kayla harrington maltby circuit coaling nsw       \n",
       "2355  deakin sondergeld goldfinch circuit kooltuo vic   \n",
       "4103  luke purdon ramsay place mirani vic               \n",
       "4263  luke purdon ramsay place mirani vic               \n",
       "3470  kayla harrington maltby circuit coaling nsw       \n",
       "\n",
       "                                                     right_side  similairity  \n",
       "1220  joshus maclennan karsjl roper nplace qld                   0.036297     \n",
       "28    dakota morrison longmore crescent three acres nsw          0.003779     \n",
       "2044  emma green learmonth drive wallace heights qld             0.006336     \n",
       "548    gerste booth cre scent donpre nsw                         0.000000     \n",
       "1569  ben browne tillyard drive willow wood vic                  0.057225     \n",
       "3190  darcy jolly antill street agar abi nsw                     0.014108     \n",
       "4923  kirah mccarthy laseron place  wa                           0.106749     \n",
       "3123  alexa-rose campblel neeld place  qld                       0.000000     \n",
       "2548   gerste booth cre scent donpre nsw                         0.023788     \n",
       "481   jacob walls atherton street indra nsw                      0.106403     \n",
       "1418  brianna white dakin place rosevillea nsw                   0.030338     \n",
       "1658  lucas rawlings paul coe crescent glenefer garden vic       0.015882     \n",
       "3214  bailey blake foxall street nioka nsw                       0.016016     \n",
       "1666  bridget pocarl thornton place crown a llot wa              0.003809     \n",
       "447   mikhayla blunden andrews street killarney qld              0.101605     \n",
       "3390  molly webb mccombie street rosedale nsw                    0.015569     \n",
       "2355  jack spawton mathieson crescent locn 1025 qld              0.005936     \n",
       "4103  alissa kilmatrin reveley rescent crown allot nsw           0.023137     \n",
       "4263   harrington adair street the lakes retirement village vic  0.030921     \n",
       "3470  madeline najhm boronia drive poplar bend nsw               0.038322     "
      ]
     },
     "execution_count": 185,
     "metadata": {},
     "output_type": "execute_result"
    }
   ],
   "source": [
    "matches_df.sample(20)"
   ]
  },
  {
   "cell_type": "code",
   "execution_count": 199,
   "metadata": {},
   "outputs": [
    {
     "data": {
      "text/html": [
       "<div>\n",
       "<style scoped>\n",
       "    .dataframe tbody tr th:only-of-type {\n",
       "        vertical-align: middle;\n",
       "    }\n",
       "\n",
       "    .dataframe tbody tr th {\n",
       "        vertical-align: top;\n",
       "    }\n",
       "\n",
       "    .dataframe thead th {\n",
       "        text-align: right;\n",
       "    }\n",
       "</style>\n",
       "<table border=\"1\" class=\"dataframe\">\n",
       "  <thead>\n",
       "    <tr style=\"text-align: right;\">\n",
       "      <th></th>\n",
       "      <th>left_side</th>\n",
       "      <th>right_side</th>\n",
       "      <th>similairity</th>\n",
       "    </tr>\n",
       "  </thead>\n",
       "  <tbody>\n",
       "    <tr>\n",
       "      <th>0</th>\n",
       "      <td>waller tullaroop street willaroo wa</td>\n",
       "      <td>waller tullaroop street willaroo wa</td>\n",
       "      <td>1.000000</td>\n",
       "    </tr>\n",
       "    <tr>\n",
       "      <th>474</th>\n",
       "      <td>waller tullaroop street willaroo wa</td>\n",
       "      <td>jamilla wallner tullaroop street willaroo wa</td>\n",
       "      <td>0.836462</td>\n",
       "    </tr>\n",
       "    <tr>\n",
       "      <th>1001</th>\n",
       "      <td>lachlan berry giblin street killarney qld</td>\n",
       "      <td>lachlan berry giblin street killarney qld</td>\n",
       "      <td>1.000000</td>\n",
       "    </tr>\n",
       "    <tr>\n",
       "      <th>1330</th>\n",
       "      <td>lachlan berry giblin street killarney qld</td>\n",
       "      <td>lachlan berry giblin street killarney qld</td>\n",
       "      <td>1.000000</td>\n",
       "    </tr>\n",
       "    <tr>\n",
       "      <th>2002</th>\n",
       "      <td>deakin sondergeld goldfinch circuit kooltuo vic</td>\n",
       "      <td>deakin sondergeld goldfinch circuit kooltuo vic</td>\n",
       "      <td>1.000000</td>\n",
       "    </tr>\n",
       "    <tr>\n",
       "      <th>2351</th>\n",
       "      <td>deakin sondergeld goldfinch circuit kooltuo vic</td>\n",
       "      <td>deakin sondergeld goldfinch circuit kooltuo vic</td>\n",
       "      <td>1.000000</td>\n",
       "    </tr>\n",
       "    <tr>\n",
       "      <th>3003</th>\n",
       "      <td>kayla harrington maltby circuit coaling nsw</td>\n",
       "      <td>kayla harrington maltby circuit coaling nsw</td>\n",
       "      <td>1.000000</td>\n",
       "    </tr>\n",
       "    <tr>\n",
       "      <th>3290</th>\n",
       "      <td>kayla harrington maltby circuit coaling nsw</td>\n",
       "      <td>kayla harrington maltby circuit coaling nsw</td>\n",
       "      <td>1.000000</td>\n",
       "    </tr>\n",
       "    <tr>\n",
       "      <th>4004</th>\n",
       "      <td>luke purdon ramsay place mirani vic</td>\n",
       "      <td>luke purdon ramsay place mirani vic</td>\n",
       "      <td>1.000000</td>\n",
       "    </tr>\n",
       "    <tr>\n",
       "      <th>4333</th>\n",
       "      <td>luke purdon ramsay place mirani vic</td>\n",
       "      <td>mia purdon ramsay place mirani vic</td>\n",
       "      <td>0.880569</td>\n",
       "    </tr>\n",
       "  </tbody>\n",
       "</table>\n",
       "</div>"
      ],
      "text/plain": [
       "                                            left_side  \\\n",
       "0      waller tullaroop street willaroo wa              \n",
       "474    waller tullaroop street willaroo wa              \n",
       "1001  lachlan berry giblin street killarney qld         \n",
       "1330  lachlan berry giblin street killarney qld         \n",
       "2002  deakin sondergeld goldfinch circuit kooltuo vic   \n",
       "2351  deakin sondergeld goldfinch circuit kooltuo vic   \n",
       "3003  kayla harrington maltby circuit coaling nsw       \n",
       "3290  kayla harrington maltby circuit coaling nsw       \n",
       "4004  luke purdon ramsay place mirani vic               \n",
       "4333  luke purdon ramsay place mirani vic               \n",
       "\n",
       "                                           right_side  similairity  \n",
       "0      waller tullaroop street willaroo wa             1.000000     \n",
       "474   jamilla wallner tullaroop street willaroo wa     0.836462     \n",
       "1001  lachlan berry giblin street killarney qld        1.000000     \n",
       "1330  lachlan berry giblin street killarney qld        1.000000     \n",
       "2002  deakin sondergeld goldfinch circuit kooltuo vic  1.000000     \n",
       "2351  deakin sondergeld goldfinch circuit kooltuo vic  1.000000     \n",
       "3003  kayla harrington maltby circuit coaling nsw      1.000000     \n",
       "3290  kayla harrington maltby circuit coaling nsw      1.000000     \n",
       "4004  luke purdon ramsay place mirani vic              1.000000     \n",
       "4333  mia purdon ramsay place mirani vic               0.880569     "
      ]
     },
     "execution_count": 199,
     "metadata": {},
     "output_type": "execute_result"
    }
   ],
   "source": [
    "matches_df[matches_df['similairity'] > 0.7]"
   ]
  },
  {
   "cell_type": "markdown",
   "metadata": {},
   "source": [
    "## Resources"
   ]
  },
  {
   "cell_type": "markdown",
   "metadata": {},
   "source": [
    "https://docs.dedupe.io/en/latest/How-it-works.html\n",
    "- A promising library for record linkage and deduplication, alongside a useful walthrough of the key ideas involved in this link.\n",
    "https://recordlinkage.readthedocs.io/en/latest/notebooks/data_deduplication.html\n",
    "- Another package"
   ]
  },
  {
   "cell_type": "code",
   "execution_count": null,
   "metadata": {},
   "outputs": [],
   "source": []
  }
 ],
 "metadata": {
  "kernelspec": {
   "display_name": "Python 3",
   "language": "python",
   "name": "python3"
  },
  "language_info": {
   "codemirror_mode": {
    "name": "ipython",
    "version": 3
   },
   "file_extension": ".py",
   "mimetype": "text/x-python",
   "name": "python",
   "nbconvert_exporter": "python",
   "pygments_lexer": "ipython3",
   "version": "3.7.3"
  }
 },
 "nbformat": 4,
 "nbformat_minor": 4
}
